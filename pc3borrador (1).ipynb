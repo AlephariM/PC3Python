{
 "cells": [
  {
   "cell_type": "markdown",
   "metadata": {},
   "source": [
    "Problema 1:\n",
    "Implemente un programa que solicite al usuario una fracción, con\n",
    "formato X/Y, donde cada uno de X e Y es un número entero, y luego\n",
    "muestra, como un porcentaje redondeado al número entero más\n",
    "cercano, donde se indicará la cantidad de combustible en el\n",
    "tanque. Se debe tener en cuenta los siguientes casos:\n",
    "- Colocar E en caso X/Y sea menor a 1% del total\n",
    "- Colocar F en caso X/Y sea mayor a 99%.\n",
    "- En otro caso, devolver el valor en porcentaje %\n",
    "También debe tomar en cuenta los siguientes casos:\n",
    "- X y Y deben ser números enteros\n",
    "- X debe ser menor o igual a Y, y Y != 0\n",
    "De no cumplirse estos casos, se debe volver a preguntar al usuario. Asegúrese de detectar\n",
    "cualquier excepción como ValueError o ZeroDivisionError.\n",
    "Ejemplos:\n",
    "- Input: 4/0 Acción: Volver a preguntar al usuario dada la excepción ZeroDivisionError\n",
    "- Input 1.5/3 Acción: Error dado que solo se permiten números enteros ValueError\n",
    "- Input 5/4 Acción: Volver a preguntar al usuario\n",
    "- Input 3/4 Output: 75%\n",
    "- Input 4/4: Output F\n",
    "Nota: Le será de utilidad aplicar"
   ]
  },
  {
   "cell_type": "code",
   "execution_count": 22,
   "metadata": {},
   "outputs": [
    {
     "name": "stdout",
     "output_type": "stream",
     "text": [
      "Volver a preguntar al usuario dada la excepción ZeroDivisionError.\n",
      "Error dado que solo se permiten números enteros ValueError.\n",
      "Volver a preguntar al usuario.\n",
      "Cantidad de combustible en el tanque: 75%\n"
     ]
    }
   ],
   "source": [
    "\n",
    "while True:\n",
    "    try:\n",
    "        fraccion = input(\"Ingrese una fracción en el formato X/Y: \")\n",
    "        x, y = map(int, fraccion.split('/'))\n",
    "        division = x/y\n",
    "\n",
    "        if (x <= y) and (y != 0) :\n",
    "            \n",
    "            redondeo = division * 100\n",
    "\n",
    "            if redondeo < 1:\n",
    "                print(\"Cantidad de combustible en el tanque: E\")\n",
    "            elif redondeo > 99:\n",
    "                print(\"Cantidad de combustible en el tanque: F\")\n",
    "            else:\n",
    "                print(\"Cantidad de combustible en el tanque:\", f'{ int(redondeo) }%')\n",
    "            break\n",
    "        \n",
    "        else:\n",
    "            print(\"Volver a preguntar al usuario.\")\n",
    "    except ValueError:\n",
    "        print(\"Error dado que solo se permiten números enteros ValueError.\")\n",
    "        continue\n",
    "    except ZeroDivisionError:\n",
    "        print(\"Volver a preguntar al usuario dada la excepción ZeroDivisionError.\")\n",
    "    \n"
   ]
  },
  {
   "cell_type": "code",
   "execution_count": 5,
   "metadata": {},
   "outputs": [
    {
     "name": "stdout",
     "output_type": "stream",
     "text": [
      "Cantidad de combustible en el tanque: 0%\n"
     ]
    }
   ],
   "source": [
    "'''while True:\n",
    "    \n",
    "    x = int(input(\"ingrese el valor de x: \"))\n",
    "    y = int(input(\"Ingrese el valor de y: \"))\n",
    "\n",
    "    try:\n",
    "        division = x/y\n",
    "        \n",
    "        if division < 0.01 :\n",
    "            print(\"E\")\n",
    "        elif division > 0.99 :\n",
    "            print(\"F\")\n",
    "        else:\n",
    "            print(\"gasolina actual: {}%\".format(division*100))\n",
    "        break\n",
    "        \n",
    "    except ValueError:\n",
    "        print(\"Ingresó un valor incorrecto para x\")\n",
    "    except ZeroDivisionError:\n",
    "        print(\"Ingresó un valor de {} para y\".format(y))'''\n",
    "\n"
   ]
  },
  {
   "cell_type": "markdown",
   "metadata": {},
   "source": [
    "2) Cree un programa que solicite al usuario una lista de calificaciones separadas por comas. Divida\n",
    "la cadena en calificaciones individuales y almacénelas en una lista para luego convertir cada\n",
    "calificación en un entero. Deberá utilizar una sentencia try/except para informar al usuario\n",
    "cuando los valores introducidos no puedan ser convertidos debido a un error de tipeo o\n",
    "formato. (Los métodos de cadena le serán de utilidad)"
   ]
  },
  {
   "cell_type": "code",
   "execution_count": 25,
   "metadata": {},
   "outputs": [
    {
     "name": "stdout",
     "output_type": "stream",
     "text": [
      "Error: Asegúrese de ingresar solo números separados por comas. Inténtelo de nuevo.\n",
      "Error: Asegúrese de ingresar solo números separados por comas. Inténtelo de nuevo.\n",
      "Lista de calificaciones: [1, 2, 3, 4]\n"
     ]
    }
   ],
   "source": [
    "while True:\n",
    "    try:\n",
    "        califi = input(\"Ingrese la lista de calificaciones separadas por comas: \")\n",
    "\n",
    "        # Dividir la cadena en calificaciones individuales utilizando el método split(',')\n",
    "        califi_lista = califi.split(',')\n",
    "\n",
    "        # Convertir cada calificación en un entero y almacenarlas en una nueva lista\n",
    "        #lista_final = [int(calificacion) for calificacion in califi_lista]\n",
    "        lista_final=[]\n",
    "        for calificacion in califi_lista:\n",
    "            lista_final.append(int(calificacion))\n",
    "        \n",
    "        print(\"Lista de calificaciones:\", lista_final)\n",
    "        \n",
    "        # Salir del bucle ya que el proceso ha terminado correctamente\n",
    "        break\n",
    "\n",
    "    except ValueError:\n",
    "        # Manejar el error en caso de que una calificación no se pueda convertir a entero\n",
    "        print(\"Error: Asegúrese de ingresar solo números separados por comas. Inténtelo de nuevo.\")\n"
   ]
  },
  {
   "cell_type": "markdown",
   "metadata": {},
   "source": [
    "Problema 3:\n",
    "Definir una clase llamada “CIRCULO” la cual contenga un atributo inicializador radio. La clase\n",
    "“CIRCULO” debe tener un método que puede calcular el área en utilizando el atributo radio."
   ]
  },
  {
   "cell_type": "code",
   "execution_count": 31,
   "metadata": {},
   "outputs": [
    {
     "data": {
      "text/plain": [
       "314.1592653589793"
      ]
     },
     "execution_count": 31,
     "metadata": {},
     "output_type": "execute_result"
    }
   ],
   "source": [
    "import math\n",
    "#pi = 3.14\n",
    "class CIRCULO:\n",
    "    def __init__(self, radio):\n",
    "        self.radio = radio\n",
    "        \n",
    "        \n",
    "    def calcular_areaC(self):\n",
    "        # Calcular el área del círculo utilizando la fórmula: π * radio^2\n",
    "        area_cir = math.pi * self.radio ** 2\n",
    "        return area_cir\n",
    "\n",
    "circulo1 = CIRCULO(10)\n",
    "#circulo1.__init__(2)\n",
    "circulo1.calcular_areaC()"
   ]
  },
  {
   "cell_type": "markdown",
   "metadata": {},
   "source": [
    "Problema 4:\n",
    "Definir una clase llamada “RECTANGULO” que puede ser construida por los atributos largo y\n",
    "ancho. La clase “RECTANGULO” debe tener un método que puede calcular el área utilizando los\n",
    "atributos de la clase.\n"
   ]
  },
  {
   "cell_type": "code",
   "execution_count": 5,
   "metadata": {},
   "outputs": [
    {
     "data": {
      "text/plain": [
       "25.0"
      ]
     },
     "execution_count": 5,
     "metadata": {},
     "output_type": "execute_result"
    }
   ],
   "source": [
    "class RECTANGULO:\n",
    "    def __init__(self, largo, ancho):\n",
    "            self.largo = largo\n",
    "            self.ancho = ancho\n",
    "    \n",
    "    def calcular_areaR(self):\n",
    "        area_rec = self.ancho * self.largo\n",
    "        return area_rec\n",
    "#-- Fin de la clase\n",
    "\n",
    "rectangulo1 = RECTANGULO(10, 2.5)\n",
    "rectangulo1.calcular_areaR()\n"
   ]
  },
  {
   "cell_type": "markdown",
   "metadata": {},
   "source": [
    "Problema 5:\n",
    "Cree una clase Alumno e inicialícela con el nombre y el número de registro. Haga los métodos\n",
    "para:\n",
    "1. Display - Debe mostrar toda la información del estudiante (nombre y número de\n",
    "registro).\n",
    "2. setAge - Debe asignar la edad al estudiante\n",
    "3. setNota - Debe asignar las notas al estudiante.\n"
   ]
  },
  {
   "cell_type": "code",
   "execution_count": 13,
   "metadata": {},
   "outputs": [
    {
     "name": "stdout",
     "output_type": "stream",
     "text": [
      "Juanito\n",
      "Nombre del estudiante: Juanito. Número de registro: 2021\n",
      "Edad asignada a Juanito: 12\n",
      "Nota asignada a Juanito: 14.5\n"
     ]
    }
   ],
   "source": [
    "class Alumno:\n",
    "    def __init__(self, name_alu, num_regis):\n",
    "        self.name_alu = name_alu\n",
    "        self.num_regis= num_regis\n",
    "    \n",
    "    def Display(self):\n",
    "        print(f\"Nombre del estudiante: {str(self.name_alu)}. Número de registro: {str(self.num_regis)}\")\n",
    "    \n",
    "    def setAge(self, edad_alu):\n",
    "        self.edad_alu = int(edad_alu)\n",
    "        print (\"Edad asignada a {}\".format(self.name_alu) + \": {}\".format(str(self.edad_alu)) )\n",
    "    \n",
    "    def setNota(self, nota_alu):\n",
    "        self.nota_alu = float(nota_alu)\n",
    "        print(f\"Nota asignada a {self.name_alu}: {str(self.nota_alu)}\")\n",
    "#--Fin de la clase----\n",
    "\n",
    "alumno1 = Alumno('Juanito', '2021')\n",
    "print(alumno1.name_alu)\n",
    "\n",
    "alumno1.Display()\n",
    "alumno1.setAge(12)\n",
    "alumno1.setNota(14.5)"
   ]
  },
  {
   "cell_type": "markdown",
   "metadata": {},
   "source": [
    "Problema 6:\n",
    "Una tienda de autopartes necesita un programa para catalogar sus productos, crear la clase\n",
    "Catálogo y Producto, realizar un objeto dentro de un catálogo productos el cual debe tener un\n",
    "método para agregar productos y otra para mostrar toda la lista de productos.\n",
    "Agregar 2 funcionalidades al catálogo (por ejemplo, filtro según año) , asi mismo se puede\n",
    "agregar más atributos a los productos para que se puedan hacer otras funcionalidades"
   ]
  },
  {
   "cell_type": "code",
   "execution_count": 18,
   "metadata": {},
   "outputs": [
    {
     "name": "stdout",
     "output_type": "stream",
     "text": [
      "Lista de productos:\n",
      "Batería\n",
      "Filtro de aceite\n",
      "Llantas\n",
      "Pastillas de freno\n",
      "Productos del año 2022:\n",
      "Batería\n",
      "Llantas\n"
     ]
    }
   ],
   "source": [
    "class Producto:\n",
    "    def __init__(self, codigo, nombre, precio, año):\n",
    "        self.codigo = codigo\n",
    "        self.nombre = nombre\n",
    "        self.precio = precio\n",
    "        self.año = año\n",
    "\n",
    "    def Display(self):\n",
    "        return f\"Código: {self.codigo}, Nombre: {self.nombre}, Precio: {self.precio}, Año: {self.año}\"\n",
    "\n",
    "\n",
    "class Catalogo:\n",
    "    def __init__(self):\n",
    "        self.catalogo_prod = []\n",
    "\n",
    "    def agregar_producto(self, producto):\n",
    "        self.catalogo_prod.append(producto)\n",
    "        #se agrega un producto al final de la lista\n",
    "\n",
    "    def mostrar_catalogo(self):\n",
    "        if self.catalogo_prod:\n",
    "            print(\"Lista de productos:\")\n",
    "            for producto in self.catalogo_prod:\n",
    "                print(producto.nombre)\n",
    "        else:\n",
    "            print(\"El catálogo está vacío.\")\n",
    "\n",
    "    def filtrar_por_año(self, año):\n",
    "        #productos_filtrados = [producto for producto in self.catalogo_prod if producto.año == año]\n",
    "        productos_filtrados = []\n",
    "        \n",
    "        for producto in self.catalogo_prod:\n",
    "            if producto.año == año :\n",
    "                productos_filtrados.append(producto.nombre)\n",
    "        \n",
    "        if productos_filtrados:\n",
    "            print(f\"Productos del año {año}:\")\n",
    "            for producto in productos_filtrados:\n",
    "                print(producto)\n",
    "        else:\n",
    "            print(f\"No hay productos del año {año} en el catálogo.\")\n",
    "\n",
    "\n",
    "# Ejemplo\n",
    "catalogo = Catalogo()\n",
    "\n",
    "catalogo.agregar_producto(Producto(\"001\", \"Batería\", 120.50, 2022))\n",
    "catalogo.agregar_producto(Producto(\"002\", \"Filtro de aceite\", 15.75, 2023))\n",
    "catalogo.agregar_producto(Producto(\"003\", \"Llantas\", 400.0, 2022))\n",
    "catalogo.agregar_producto(Producto(\"004\", \"Pastillas de freno\", 50.0, 2021))\n",
    "\n",
    "catalogo.mostrar_catalogo()\n",
    "\n",
    "catalogo.filtrar_por_año(2022)\n"
   ]
  },
  {
   "cell_type": "markdown",
   "metadata": {},
   "source": [
    "Problema 7\n",
    "- Crea una clase llamada **Punto** con sus dos coordenadas X e Y.\n",
    "- Añade un método **constructor** para crear puntos fácilmente. Si no se reciben una coordenada, su valor será cero.\n",
    "- Sobreescribe el método **string**, para que al imprimir por pantalla un punto aparezca en formato (X,Y)\n",
    "- Añade un método llamado **cuadrante** que indique a qué cuadrante pertenece el punto, teniendo en cuenta que si X == 0 e Y != 0 se sitúa sobre el eje Y, si X != 0 e Y == 0 se sitúa sobre el eje X y si X == 0 e Y == 0 está sobre el origen.\n",
    "- Añade un método llamado **vector**, que tome otro punto y calcule el vector resultante entre los dos puntos.\n",
    "- **(Optativo)** Añade un método llamado **distancia**, que tome otro punto y calcule la distancia entre los dos puntos y la muestre por pantalla. La fórmula es la siguiente:\n"
   ]
  },
  {
   "cell_type": "code",
   "execution_count": 5,
   "metadata": {},
   "outputs": [
    {
     "name": "stdout",
     "output_type": "stream",
     "text": [
      "( 2.0, 2.0)\n",
      "( 1.5, 0.0)\n",
      "El punto se encuentra en el primer cuadrante\n",
      "El punto se encuentra en el eje X\n"
     ]
    },
    {
     "data": {
      "text/plain": [
       "2.0615528128088303"
      ]
     },
     "execution_count": 5,
     "metadata": {},
     "output_type": "execute_result"
    }
   ],
   "source": [
    "import math\n",
    "\n",
    "class Punto:\n",
    "    def __init__(self, x=0, y=0):#constructor\n",
    "        self.x = float(x)\n",
    "        self.y = float(y)\n",
    "    \n",
    "    def stringg(self):\n",
    "        print( f'( {str(self.x)}, {str(self.y)})')\n",
    "    \n",
    "    def cuadrante(self):\n",
    "        if ( self.x > 0 ) and ( self.y > 0):\n",
    "            print('El punto se encuentra en el primer cuadrante')\n",
    "        elif( self.x < 0 ) and ( self.y > 0):\n",
    "            print('El punto se encuentra en el segundo cuadrante')\n",
    "        elif ( self.x < 0 ) and ( self.y < 0):\n",
    "            print('El punto se encuentra en el tercer cuadrante')\n",
    "        elif ( self.x > 0 ) and ( self.y < 0):\n",
    "            print('El punto se encuentra en el cuarto cuadrante')\n",
    "        elif ( self.x == 0 ) and ( self.y != 0):\n",
    "            print('El punto se encuentra en el eje Y')\n",
    "        elif ( self.x != 0 ) and ( self.y == 0):\n",
    "            print('El punto se encuentra en el eje X')\n",
    "        else:\n",
    "            print('El punto se encuentra en el origen de coordenadas')\n",
    "    \n",
    "    #def vector(self, otrox:float, otroy:float):\n",
    "       # v_result =\n",
    "    def distancia(self, otropunto):\n",
    "        diss = math.sqrt( (otropunto.x - self.x)**2 + (otropunto.y - self.y)**2)\n",
    "        return diss\n",
    "#--Fin de la clase---    \n",
    "\n",
    "punto1 = Punto(2,2)\n",
    "punto2 = Punto(1.5)\n",
    "\n",
    "punto1.stringg()\n",
    "punto2.stringg()\n",
    "#print(f\"{punto1.stringg()}\")\n",
    "#print(f\"{punto2.stringg()}\")\n",
    "\n",
    "punto1.cuadrante()\n",
    "punto2.cuadrante()\n",
    "\n",
    "punto1.distancia(punto2)\n"
   ]
  },
  {
   "cell_type": "markdown",
   "metadata": {},
   "source": [
    "$$\n",
    "  d = \\sqrt{ (({x2 - x1}){^2} + ({y2 - y1}){^2} ) }\n",
    "$$"
   ]
  },
  {
   "cell_type": "code",
   "execution_count": null,
   "metadata": {},
   "outputs": [],
   "source": [
    "import math\n",
    "# raiz cuadrada\n",
    "print(math.sqrt(9))\n",
    "\n",
    "# valor absoluto\n",
    "print(abs(-4))        "
   ]
  },
  {
   "cell_type": "markdown",
   "metadata": {},
   "source": [
    "- Crea una clase llamada **Rectangulo** con dos puntos (inicial y final) que formarán la diagonal del rectángulo.\n",
    "- Añade un método **constructor** para crear ambos puntos fácilmente, si no se envían se crearán dos puntos en el origen por defecto.\n",
    "- Añade al rectángulo un método llamado **base** que muestre la base.\n",
    "- Añade al rectángulo un método llamado **altura** que muestre la altura.\n",
    "- Añade al rectángulo un método llamado **area** que muestre el area."
   ]
  },
  {
   "cell_type": "code",
   "execution_count": 7,
   "metadata": {},
   "outputs": [
    {
     "name": "stdout",
     "output_type": "stream",
     "text": [
      "( 3.0, 4.0)\n",
      "( 0.0, 0.0)\n"
     ]
    },
    {
     "data": {
      "text/plain": [
       "12.0"
      ]
     },
     "execution_count": 7,
     "metadata": {},
     "output_type": "execute_result"
    }
   ],
   "source": [
    "import math\n",
    "\n",
    "class Puntoo:\n",
    "    def __init__(self, xx=0, yy=0):#constructor\n",
    "        self.xx = float(xx)\n",
    "        self.yy = float(yy)\n",
    "    \n",
    "    def stringg(self):\n",
    "        print( f'( {str(self.xx)}, {str(self.yy)})')\n",
    "\n",
    "class Rectanguloo:\n",
    "    def __init__(self, pinicial=Punto(), pfinal=Punto()):\n",
    "        self.pinicial = pinicial\n",
    "        self.pfinal = pfinal\n",
    "    \n",
    "    def base(self):\n",
    "        return abs(self.pfinal.xx - self.pinicial.xx)\n",
    "    \n",
    "    def altura(self):\n",
    "        return abs(self.pfinal.yy - self.pinicial.yy)\n",
    "    \n",
    "    def area(self):\n",
    "        return self.base() * self.altura()\n",
    "#--FIn de las clases----------\n",
    "\n",
    "puntoi = Puntoo(3,4)\n",
    "puntof = Puntoo()\n",
    "\n",
    "puntoi.stringg()\n",
    "puntof.stringg()\n",
    "\n",
    "rect1 = Rectanguloo(puntoi, puntof)\n",
    "rect1.base()\n",
    "rect1.altura()\n",
    "rect1.area()"
   ]
  },
  {
   "cell_type": "markdown",
   "metadata": {},
   "source": [
    "Problema 8:\n",
    "Desarrollar un módulo que contenga las siguientes funciones:\n",
    "● Que genere 20 números enteros aleatorios entre 0 y 100 y devuelva una lista.\n",
    "● Mostrar la lista obtenida por pantalla.\n",
    "● Ordenar los valores de la lista y mostrarla por pantalla.\n",
    "Luego crea un script main.py en el mismo directorio en el que deberás importar el módulo y\n",
    "ejecutar las funciones.\n",
    "Nota: utilizar el módulo “random” para generar un número aleatorio."
   ]
  },
  {
   "cell_type": "code",
   "execution_count": 1,
   "metadata": {},
   "outputs": [],
   "source": [
    "#nombre del actual: mis_funciones.py\n",
    "import random\n",
    "\n",
    "def generar_naleatorios():\n",
    "    return [random.randint(0, 100) for _ in range(20)]\n",
    "\n",
    "def mostrar_lista(lista):\n",
    "    print(\"Lista obtenida:\", lista)\n",
    "\n",
    "def ordenar_y_mostrar(lista):\n",
    "    lista_ordenada = sorted(lista)\n",
    "    print(\"Lista ordenada:\", lista_ordenada)"
   ]
  },
  {
   "cell_type": "code",
   "execution_count": 4,
   "metadata": {},
   "outputs": [
    {
     "name": "stdout",
     "output_type": "stream",
     "text": [
      "Lista obtenida: [52, 91, 71, 72, 59, 87, 52, 5, 27, 28, 64, 30, 73, 37, 38, 30, 59, 74, 61, 74]\n",
      "Lista ordenada: [5, 27, 28, 30, 30, 37, 38, 52, 52, 59, 59, 61, 64, 71, 72, 73, 74, 74, 87, 91]\n"
     ]
    }
   ],
   "source": [
    "#import mis_funciones se llama al archivo anterior\n",
    "#nombre del actual: main.py\n",
    "\n",
    "numeros_aleatorios = generar_naleatorios()\n",
    "mostrar_lista(numeros_aleatorios)\n",
    "\n",
    "ordenar_y_mostrar(numeros_aleatorios)"
   ]
  },
  {
   "cell_type": "markdown",
   "metadata": {},
   "source": [
    "9)\n",
    "Cree un módulo llamado operaciones.py el cual contendrá 4 funciones para realizar una suma,\n",
    "una resta, un producto y una división entre dos números. Todas ellas devolverán el resultado.\n",
    "En las funciones del módulo deberá de haber tratamiento e invocación manual de errores para\n",
    "evitar que se quede bloqueada una funcionalidad, esto incluye:\n",
    "● En caso de que se envíen valores a las funciones que no sean números, deberá\n",
    "aparecer un mensaje que informe Error: Tipo de dato no válido.\n",
    "● En caso de realizar una división por cero, deberá aparecer un mensaje que informe\n",
    "Error: No es posible dividir entre cero.\n",
    "Una vez creado el módulo, crea un script calculos.py en el mismo directorio en el que deberás\n",
    "importar el módulo y ejecutar las funciones."
   ]
  },
  {
   "cell_type": "code",
   "execution_count": 5,
   "metadata": {},
   "outputs": [],
   "source": [
    "#nombre del modulo: operaciones.py\n",
    "def suma(a, b):\n",
    "    try:\n",
    "        resultado = a + b\n",
    "        return resultado\n",
    "    except TypeError:\n",
    "        return \"Error: Tipo de dato no válido\"\n",
    "\n",
    "def resta(a, b):\n",
    "    try:\n",
    "        resultado = a - b\n",
    "        return resultado\n",
    "    except TypeError:\n",
    "        return \"Error: Tipo de dato no válido\"\n",
    "\n",
    "def producto(a, b):\n",
    "    try:\n",
    "        resultado = a * b\n",
    "        return resultado\n",
    "    except TypeError:\n",
    "        return \"Error: Tipo de dato no válido\"\n",
    "\n",
    "def division(a, b):\n",
    "    try:\n",
    "        if b == 0:\n",
    "            raise ZeroDivisionError(\"Error: No es posible dividir entre cero\")\n",
    "        resultado = a / b\n",
    "        return resultado\n",
    "    except TypeError:\n",
    "        return \"Error: Tipo de dato no válido\"\n",
    "    except ZeroDivisionError as e:\n",
    "        return str(e)\n"
   ]
  },
  {
   "cell_type": "code",
   "execution_count": 6,
   "metadata": {},
   "outputs": [
    {
     "name": "stdout",
     "output_type": "stream",
     "text": [
      "Suma: 10\n",
      "Resta: 10\n",
      "Producto: 0\n",
      "División: Error: No es posible dividir entre cero\n",
      "División: Error: Tipo de dato no válido\n"
     ]
    }
   ],
   "source": [
    "#nombre: main.py\n",
    "#import operaciones\n",
    "\n",
    "# Ejemplo de uso\n",
    "num1 = 10\n",
    "num2 = 0\n",
    "num3 = '2'\n",
    "\n",
    "\"\"\"\n",
    "print(\"Suma:\", operaciones.suma(num1, num2))\n",
    "print(\"Resta:\", operaciones.resta(num1, num2))\n",
    "print(\"Producto:\", operaciones.producto(num1, num2))\n",
    "print(\"División:\", operaciones.division(num1, num2))\n",
    "\"\"\"\n",
    "print(\"Suma:\", suma(num1, num2))\n",
    "print(\"Resta:\", resta(num1, num2))\n",
    "print(\"Producto:\", producto(num1, num2))\n",
    "print(\"División:\", division(num1, num2))\n",
    "print(\"División:\", division(num1, num3))"
   ]
  },
  {
   "cell_type": "markdown",
   "metadata": {},
   "source": [
    "Problema 10\n",
    "Cree un menú que reutilice a manera de módulos las clases creadas en los ejercicios 3 y 4. El\n",
    "menú para utilizar deberá tener las siguientes funcionalidades:\n",
    "1. Calcular el área de un circulo\n",
    "2. Calcular el área de un rectangulo\n",
    "3. Calcular el área de un cuadrado\n",
    "4. Salir"
   ]
  },
  {
   "cell_type": "code",
   "execution_count": 11,
   "metadata": {},
   "outputs": [
    {
     "data": {
      "text/plain": [
       "314.1592653589793"
      ]
     },
     "execution_count": 11,
     "metadata": {},
     "output_type": "execute_result"
    }
   ],
   "source": [
    "import math\n",
    "#pi = 3.14\n",
    "class CIRCULO:\n",
    "    def __init__(self, radio):\n",
    "        self.radio = radio\n",
    "        \n",
    "        \n",
    "    def calcular_areaC(self):\n",
    "        # Calcular el área del círculo utilizando la fórmula: π * radio^2\n",
    "        area_cir = math.pi * self.radio ** 2\n",
    "        return area_cir\n",
    "\n",
    "circulo1 = CIRCULO(10)\n",
    "#circulo1.__init__(2)\n",
    "circulo1.calcular_areaC()"
   ]
  },
  {
   "cell_type": "code",
   "execution_count": 12,
   "metadata": {},
   "outputs": [
    {
     "data": {
      "text/plain": [
       "25.0"
      ]
     },
     "execution_count": 12,
     "metadata": {},
     "output_type": "execute_result"
    }
   ],
   "source": [
    "class RECTANGULO:\n",
    "    def __init__(self, largo, ancho):\n",
    "            self.largo = largo\n",
    "            self.ancho = ancho\n",
    "    \n",
    "    def calcular_areaR(self):\n",
    "        area_rec = self.ancho * self.largo\n",
    "        return area_rec\n",
    "#-- Fin de la clase\n",
    "\n",
    "rectangulo1 = RECTANGULO(10, 2.5)\n",
    "rectangulo1.calcular_areaR()"
   ]
  },
  {
   "cell_type": "code",
   "execution_count": 16,
   "metadata": {},
   "outputs": [
    {
     "name": "stdout",
     "output_type": "stream",
     "text": [
      "100\n",
      "50.26548245743669\n",
      "25.0\n",
      "Opcion inválida\n"
     ]
    },
    {
     "ename": "ValueError",
     "evalue": "invalid literal for int() with base 10: 'f'",
     "output_type": "error",
     "traceback": [
      "\u001b[0;31m---------------------------------------------------------------------------\u001b[0m",
      "\u001b[0;31mValueError\u001b[0m                                Traceback (most recent call last)",
      "Cell \u001b[0;32mIn[16], line 3\u001b[0m\n\u001b[1;32m      1\u001b[0m \u001b[38;5;66;03m#import anteriores modulos\u001b[39;00m\n\u001b[1;32m      2\u001b[0m \u001b[38;5;28;01mwhile\u001b[39;00m(\u001b[38;5;28;01mTrue\u001b[39;00m):\n\u001b[0;32m----> 3\u001b[0m     opcion \u001b[38;5;241m=\u001b[39m \u001b[38;5;28;43mint\u001b[39;49m\u001b[43m(\u001b[49m\u001b[38;5;28;43minput\u001b[39;49m\u001b[43m(\u001b[49m\u001b[38;5;124;43m\"\u001b[39;49m\u001b[38;5;124;43mIngrese 1. Calcular el área de un circulo\u001b[39;49m\u001b[38;5;124;43m\"\u001b[39;49m\u001b[38;5;241;43m+\u001b[39;49m\n\u001b[1;32m      4\u001b[0m \u001b[43m                 \u001b[49m\u001b[38;5;124;43m\"\u001b[39;49m\u001b[38;5;130;43;01m\\n\u001b[39;49;00m\u001b[38;5;124;43m2. Calcular el área de un rectangulo\u001b[39;49m\u001b[38;5;124;43m\"\u001b[39;49m\u001b[38;5;241;43m+\u001b[39;49m\n\u001b[1;32m      5\u001b[0m \u001b[43m                 \u001b[49m\u001b[38;5;124;43m\"\u001b[39;49m\u001b[38;5;130;43;01m\\n\u001b[39;49;00m\u001b[38;5;124;43m3. Calcular el área de un cuadrado\u001b[39;49m\u001b[38;5;124;43m\"\u001b[39;49m\u001b[38;5;241;43m+\u001b[39;49m\n\u001b[1;32m      6\u001b[0m \u001b[43m                 \u001b[49m\u001b[38;5;124;43m\"\u001b[39;49m\u001b[38;5;130;43;01m\\n\u001b[39;49;00m\u001b[38;5;124;43m4. Salir\u001b[39;49m\u001b[38;5;124;43m\"\u001b[39;49m\u001b[43m)\u001b[49m\u001b[43m \u001b[49m\u001b[43m)\u001b[49m\n\u001b[1;32m      8\u001b[0m     \u001b[38;5;28;01mif\u001b[39;00m (opcion \u001b[38;5;241m==\u001b[39m \u001b[38;5;241m1\u001b[39m):\n\u001b[1;32m      9\u001b[0m         circu \u001b[38;5;241m=\u001b[39m CIRCULO(\u001b[38;5;241m4\u001b[39m)\n",
      "\u001b[0;31mValueError\u001b[0m: invalid literal for int() with base 10: 'f'"
     ]
    }
   ],
   "source": [
    "#import anteriores modulos\n",
    "while(True):\n",
    "    opcion = int(input(\"Ingrese 1. Calcular el área de un circulo\"+\n",
    "                 \"\\n2. Calcular el área de un rectangulo\"+\n",
    "                 \"\\n3. Calcular el área de un cuadrado\"+\n",
    "                 \"\\n4. Salir\") )\n",
    "    \n",
    "    if (opcion == 1):\n",
    "        circu = CIRCULO(4)\n",
    "        print (circu.calcular_areaC() )\n",
    "    elif (opcion == 2):\n",
    "        recta = RECTANGULO(10, 2.5)\n",
    "        print (recta.calcular_areaR() )\n",
    "    elif (opcion == 3):\n",
    "        cuadra = RECTANGULO(10, 10)\n",
    "        print ( cuadra.calcular_areaR() )\n",
    "    elif(opcion == 4):\n",
    "        print(\"Saliendo\")\n",
    "        break\n",
    "    else:\n",
    "        print(\"Opcion inválida\")"
   ]
  }
 ],
 "metadata": {
  "kernelspec": {
   "display_name": "Python 3",
   "language": "python",
   "name": "python3"
  },
  "language_info": {
   "codemirror_mode": {
    "name": "ipython",
    "version": 3
   },
   "file_extension": ".py",
   "mimetype": "text/x-python",
   "name": "python",
   "nbconvert_exporter": "python",
   "pygments_lexer": "ipython3",
   "version": "3.10.13"
  }
 },
 "nbformat": 4,
 "nbformat_minor": 2
}
